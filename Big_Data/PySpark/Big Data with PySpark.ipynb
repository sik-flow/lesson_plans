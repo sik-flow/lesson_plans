{
 "cells": [
  {
   "cell_type": "markdown",
   "metadata": {},
   "source": [
    "> Note: Dataset is from [here](https://www.kaggle.com/usdot/flight-delays)"
   ]
  },
  {
   "cell_type": "markdown",
   "metadata": {},
   "source": [
    "## PySpark & Big Data"
   ]
  },
  {
   "cell_type": "markdown",
   "metadata": {},
   "source": [
    "### Agenda \n",
    "1. Intro to Big Data \n",
    "2. Intro to Parallel Computing \n",
    "3. Installing PySpark on Google Colab\n",
    "4. RDD Operations\n",
    "5. Machine Learning with PySpark"
   ]
  },
  {
   "cell_type": "markdown",
   "metadata": {},
   "source": [
    "### 1. What is Big Data? "
   ]
  },
  {
   "cell_type": "markdown",
   "metadata": {},
   "source": [
    "<img src=\"./images/3_components.png\" width=500>"
   ]
  },
  {
   "cell_type": "markdown",
   "metadata": {},
   "source": [
    "3 Components of Big Data\n",
    "1. Volume - Amount of Data\n",
    "2. Velocity - Speed of which the data comes in \n",
    "3. Variety - Different types of data coming in "
   ]
  },
  {
   "cell_type": "markdown",
   "metadata": {},
   "source": [
    "### What is Parallel Computing? "
   ]
  },
  {
   "cell_type": "markdown",
   "metadata": {},
   "source": [
    "<img src=\"./images/parallel.png\">"
   ]
  },
  {
   "cell_type": "markdown",
   "metadata": {},
   "source": [
    "Example of this you may have already done is using [GridSearch](https://github.com/sik-flow/lesson_plans/blob/master/Big_Data/PySpark/n_jobs.ipynb) "
   ]
  },
  {
   "cell_type": "markdown",
   "metadata": {},
   "source": [
    "### What is PySpark? \n",
    "\n",
    "PySpark is a Python API for Spark.  Spark is written in another language (Scala), so it allows you to use the power of Spark without having to learn Scala.  \n",
    "\n",
    "[Spark](https://en.wikipedia.org/wiki/Apache_Spark) is a cluster computing framework  "
   ]
  },
  {
   "cell_type": "markdown",
   "metadata": {},
   "source": [
    "https://colab.research.google.com/drive/1KWozCuuuIfGoh7B4ZLANd0dEHHzKJE6n?usp=sharing"
   ]
  }
 ],
 "metadata": {
  "kernelspec": {
   "display_name": "Python 3",
   "language": "python",
   "name": "python3"
  },
  "language_info": {
   "codemirror_mode": {
    "name": "ipython",
    "version": 3
   },
   "file_extension": ".py",
   "mimetype": "text/x-python",
   "name": "python",
   "nbconvert_exporter": "python",
   "pygments_lexer": "ipython3",
   "version": "3.7.4"
  }
 },
 "nbformat": 4,
 "nbformat_minor": 2
}
